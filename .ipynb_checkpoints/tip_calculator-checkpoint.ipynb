{
 "cells": [
  {
   "cell_type": "markdown",
   "metadata": {},
   "source": [
    "# Day 2: Tip Calculator"
   ]
  },
  {
   "cell_type": "code",
   "execution_count": null,
   "metadata": {},
   "outputs": [],
   "source": [
    "bill = input(\"What is your total bill? (Enter the value as a float)\\n\")\n",
    "print()\n",
    "tip = input(\"What percent tip would you like to leave? (Enter the value as a float)\\n\")\n",
    "print()\n",
    "print(f'Your tip amount is ${round(float(tip)/100 * float(bill), 2)}')\n",
    "print()\n",
    "print(f'Your total payment is now ${round((1 + float(tip)/100) * float(bill), 2)}')"
   ]
  },
  {
   "cell_type": "code",
   "execution_count": null,
   "metadata": {},
   "outputs": [],
   "source": []
  }
 ],
 "metadata": {
  "kernelspec": {
   "display_name": "Python 3",
   "language": "python",
   "name": "python3"
  },
  "language_info": {
   "codemirror_mode": {
    "name": "ipython",
    "version": 3
   },
   "file_extension": ".py",
   "mimetype": "text/x-python",
   "name": "python",
   "nbconvert_exporter": "python",
   "pygments_lexer": "ipython3",
   "version": "3.7.6"
  }
 },
 "nbformat": 4,
 "nbformat_minor": 4
}
