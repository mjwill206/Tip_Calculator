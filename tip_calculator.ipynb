{
 "cells": [
  {
   "cell_type": "markdown",
   "metadata": {},
   "source": [
    "# Day 2: Tip Calculator"
   ]
  },
  {
   "cell_type": "code",
   "execution_count": 9,
   "metadata": {},
   "outputs": [
    {
     "name": "stdin",
     "output_type": "stream",
     "text": [
      "What is your total bill?\n",
      " 87.43\n"
     ]
    },
    {
     "name": "stdout",
     "output_type": "stream",
     "text": [
      "\n"
     ]
    },
    {
     "name": "stdin",
     "output_type": "stream",
     "text": [
      "What percent tip would you like to leave? (Enter the value as an integer)\n",
      " 20\n"
     ]
    },
    {
     "name": "stdout",
     "output_type": "stream",
     "text": [
      "\n",
      "Your tip amount is 17.49\n",
      "\n",
      "Your total payment is now 104.92\n"
     ]
    }
   ],
   "source": [
    "bill = input(\"What is your total bill?\\n\")\n",
    "print()\n",
    "tip = input(\"What percent tip would you like to leave? (Enter the value as an integer)\\n\")\n",
    "print()\n",
    "print(f'Your tip amount is {round(float(tip)/100 * float(bill), 2)}')\n",
    "print()\n",
    "print(f'Your total payment is now {round((1 + float(tip)/100) * float(bill), 2)}')"
   ]
  },
  {
   "cell_type": "code",
   "execution_count": null,
   "metadata": {},
   "outputs": [],
   "source": []
  }
 ],
 "metadata": {
  "kernelspec": {
   "display_name": "Python 3",
   "language": "python",
   "name": "python3"
  },
  "language_info": {
   "codemirror_mode": {
    "name": "ipython",
    "version": 3
   },
   "file_extension": ".py",
   "mimetype": "text/x-python",
   "name": "python",
   "nbconvert_exporter": "python",
   "pygments_lexer": "ipython3",
   "version": "3.7.6"
  }
 },
 "nbformat": 4,
 "nbformat_minor": 4
}
